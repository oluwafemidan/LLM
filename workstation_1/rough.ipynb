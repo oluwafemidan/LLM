{
 "cells": [
  {
   "cell_type": "code",
   "execution_count": null,
   "id": "c1820c0e-77b4-4313-8a69-1cf43f967125",
   "metadata": {},
   "outputs": [],
   "source": [
    "#import minsearch\n",
    "import json\n",
    "from mistralai.client import MistralClient\n",
    "from mistralai.models.chat_completion import ChatMessage"
   ]
  },
  {
   "cell_type": "code",
   "execution_count": null,
   "id": "70657f66-fec9-456d-8101-1e7cf1edf034",
   "metadata": {
    "scrolled": true
   },
   "outputs": [],
   "source": [
    "with open('documents.json', 'rt') as file_input:\n",
    "    docs_raw = json.load(file_input)\n",
    "docs_raw"
   ]
  },
  {
   "cell_type": "code",
   "execution_count": null,
   "id": "fe4601cc-b497-440c-99e0-edf9ead7fc2f",
   "metadata": {},
   "outputs": [],
   "source": [
    "documents=[]\n",
    "\n",
    "for course_dict in docs_raw:\n",
    "    for doc in course_dict[\"documents\"]:\n",
    "        doc['course'] = course_dict['course']\n",
    "        documents.append(doc)\n",
    "        \n",
    "documents[7]  "
   ]
  },
  {
   "cell_type": "code",
   "execution_count": null,
   "id": "85de0d07-4e7e-46aa-88ee-2050949f0790",
   "metadata": {},
   "outputs": [],
   "source": [
    "# index = minsearch.Index(\n",
    "#     text_fields = [\"question\",\"text\",\"section\"],\n",
    "#     keyword_fields = [\"course\"]\n",
    "    \n",
    "# )\n",
    "\n",
    "# index.fit(documents)"
   ]
  },
  {
   "cell_type": "code",
   "execution_count": null,
   "id": "4692f71a-8b2f-4d58-8dc6-23ee8bc7a942",
   "metadata": {},
   "outputs": [],
   "source": [
    "query = \"the course has already started can i still enroll?\""
   ]
  },
  {
   "cell_type": "code",
   "execution_count": null,
   "id": "e814dbe3-8116-468b-8f01-6a81a88981f2",
   "metadata": {},
   "outputs": [],
   "source": [
    "# def search(query):\n",
    "#     boost = {\"question\": 3.0, \"section\": 0.5}\n",
    "    \n",
    "#     results = index.search(\n",
    "#         query=query,\n",
    "#         filter_dict={\"course\": \"data-engineering-zoomcamp\"},\n",
    "#         boost_dict=boost,\n",
    "#         num_results=5\n",
    "#         )\n",
    "#     return results\n",
    "# results = search(query)"
   ]
  },
  {
   "cell_type": "code",
   "execution_count": null,
   "id": "f0d0f9fe-9013-4998-930d-3d3d915d567a",
   "metadata": {},
   "outputs": [],
   "source": [
    "def build_prompt(query, search_results):\n",
    "    prompt_template = \"\"\"\n",
    "    You're a course teaching assistant. Answer the QUESTION based on the CONTEXT from the FAQ database.\n",
    "    use only the facts from the CONTEXT when answering the QUESTION.\n",
    "   \n",
    "    QUESTION: {question}\n",
    "    \n",
    "    CONTEXT: \n",
    "    {context}\n",
    "    \"\"\".strip()\n",
    "    \n",
    "    context = \"\"\n",
    "    \n",
    "    for doc in results:\n",
    "        context = context + f\"section: {doc['section']}\\nquestion: {doc['question']}\\nanswer: {doc['text']}\\n\\n\"\n",
    "    \n",
    "    prompt = prompt_template.format(question=query, context=context).strip()\n",
    "    return prompt"
   ]
  },
  {
   "cell_type": "code",
   "execution_count": null,
   "id": "49419391-1e83-476d-b51d-f36d19039715",
   "metadata": {},
   "outputs": [],
   "source": [
    "client = MistralClient()"
   ]
  },
  {
   "cell_type": "code",
   "execution_count": null,
   "id": "b3ca7fca-82b4-4c35-a5a7-f7aa94937afe",
   "metadata": {},
   "outputs": [],
   "source": [
    "def llm(prompt):\n",
    "    chat_response = client.chat(\n",
    "    model=\"mistral-large-latest\",\n",
    "    messages=[ChatMessage(role=\"user\", content=prompt)]\n",
    "    )\n",
    "\n",
    "    return chat_response.choices[0].message.content"
   ]
  },
  {
   "cell_type": "code",
   "execution_count": null,
   "id": "22c16a2b-a18f-43ad-88f7-57734efa8e76",
   "metadata": {},
   "outputs": [],
   "source": [
    "# def rag(query):\n",
    "#     search_results = search(query)\n",
    "#     prompt = build_prompt(query, search_results)\n",
    "#     answer = llm(prompt)\n",
    "#     return answer"
   ]
  },
  {
   "cell_type": "code",
   "execution_count": null,
   "id": "b1a5768f-5311-4919-bb1d-df1015e8c487",
   "metadata": {},
   "outputs": [],
   "source": [
    "# #query = \"the course has already started can i still enroll?\"\n",
    "# rag(query)"
   ]
  },
  {
   "cell_type": "code",
   "execution_count": null,
   "id": "29a3a934-f26d-4982-93c6-5316504b275c",
   "metadata": {},
   "outputs": [],
   "source": [
    "# rag(\"do i need to know python before i enroll for the course\")"
   ]
  },
  {
   "cell_type": "code",
   "execution_count": null,
   "id": "b7ea85df-8749-4cdf-899b-781edc78efca",
   "metadata": {},
   "outputs": [],
   "source": [
    "documents[0]"
   ]
  },
  {
   "cell_type": "code",
   "execution_count": null,
   "id": "aae03bbd-0df2-4cf2-992d-691dbe10c6d2",
   "metadata": {},
   "outputs": [],
   "source": [
    "from elasticsearch import Elasticsearch"
   ]
  },
  {
   "cell_type": "code",
   "execution_count": null,
   "id": "ad1995c2-2948-4728-9c73-c1b2908def18",
   "metadata": {},
   "outputs": [],
   "source": [
    "es_client = Elasticsearch('http://localhost:9200')"
   ]
  },
  {
   "cell_type": "code",
   "execution_count": null,
   "id": "8fa9cc67-3e18-45da-ab08-8b9b47a2fc00",
   "metadata": {},
   "outputs": [],
   "source": [
    "index_setting = {\n",
    "    \"settings\": {\n",
    "        \"number_of_shards\": 1,\n",
    "        \"number_of_replicas\": 0\n",
    "    },\n",
    "    \"mappings\": {\n",
    "        \"properties\": {\n",
    "            \"text\": {\"type\": \"text\"},\n",
    "            \"section\": {\"type\": \"text\"},\n",
    "            \"question\": {\"type\": \"text\"},\n",
    "            \"course\": {\"type\": \"keyword\"} \n",
    "        }\n",
    "    }\n",
    "}\n",
    "\n",
    "index_name = \"course-queston\"\n",
    "\n",
    "es_client.indices.create(index=index_name, body=index_setting)\n"
   ]
  },
  {
   "cell_type": "code",
   "execution_count": null,
   "id": "6976cf31-7d95-4970-b941-b95347e0cf61",
   "metadata": {},
   "outputs": [],
   "source": [
    "documents[0]"
   ]
  },
  {
   "cell_type": "code",
   "execution_count": null,
   "id": "81e1c939-7a0a-4284-8d92-4659cd810c0a",
   "metadata": {},
   "outputs": [],
   "source": [
    "from tqdm.auto import tqdm"
   ]
  },
  {
   "cell_type": "code",
   "execution_count": null,
   "id": "a44213ff-bf52-4481-a7da-85c1e1cc36fb",
   "metadata": {},
   "outputs": [],
   "source": [
    "for doc in tqdm(documents):\n",
    "    es_client.index(index=index_name, document=doc)"
   ]
  },
  {
   "cell_type": "code",
   "execution_count": null,
   "id": "6eaae4bf-2e83-48e4-a456-85249bea9044",
   "metadata": {},
   "outputs": [],
   "source": [
    "query = \"do i need to know python before enrolling for the course\""
   ]
  },
  {
   "cell_type": "code",
   "execution_count": null,
   "id": "f99cd978-3c64-429a-abef-7056783cee70",
   "metadata": {},
   "outputs": [],
   "source": [
    "def elastic_search(query):\n",
    "    search_query = {\n",
    "        \"size\": 5,\n",
    "        \"query\": {\n",
    "            \"bool\": {\n",
    "                \"must\": {\n",
    "                    \"multi_match\": {\n",
    "                        \"query\": query,\n",
    "                        \"fields\": [\"question^3\", \"text\", \"section\"],\n",
    "                        \"type\": \"best_fields\"\n",
    "                    }\n",
    "                },\n",
    "                \"filter\": {\n",
    "                    \"term\": {\n",
    "                        \"course\": \"data-engineering-zoomcamp\"\n",
    "                    }\n",
    "                }\n",
    "            }\n",
    "        }\n",
    "    }\n",
    "    response = es_client.search(index=index_name, body=search_query)\n",
    "    result_docs = []\n",
    "\n",
    "    for hit in response['hits']['hits']:\n",
    "        result_docs.append(hit['_source'])\n",
    "        \n",
    "    return result_docs"
   ]
  },
  {
   "cell_type": "code",
   "execution_count": null,
   "id": "fda4798a-dc84-4847-b726-71a22322eda9",
   "metadata": {},
   "outputs": [],
   "source": [
    "def rag(query):\n",
    "    search_results = elastic_search(query)\n",
    "    prompt = build_prompt(query, search_results)\n",
    "    answer = llm(prompt)\n",
    "    return answer"
   ]
  },
  {
   "cell_type": "code",
   "execution_count": null,
   "id": "6f2595f6-b468-41ef-8e9c-85f73d5306fa",
   "metadata": {},
   "outputs": [],
   "source": [
    "rag(query)"
   ]
  },
  {
   "cell_type": "code",
   "execution_count": null,
   "id": "e135596f-c00b-4f52-a16a-b0413d9261e8",
   "metadata": {},
   "outputs": [],
   "source": []
  }
 ],
 "metadata": {
  "kernelspec": {
   "display_name": "Python 3 (ipykernel)",
   "language": "python",
   "name": "python3"
  },
  "language_info": {
   "codemirror_mode": {
    "name": "ipython",
    "version": 3
   },
   "file_extension": ".py",
   "mimetype": "text/x-python",
   "name": "python",
   "nbconvert_exporter": "python",
   "pygments_lexer": "ipython3",
   "version": "3.10.13"
  }
 },
 "nbformat": 4,
 "nbformat_minor": 5
}
